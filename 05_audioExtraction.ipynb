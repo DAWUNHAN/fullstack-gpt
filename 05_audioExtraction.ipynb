{
 "cells": [
  {
   "cell_type": "code",
   "execution_count": 1,
   "metadata": {},
   "outputs": [
    {
     "name": "stderr",
     "output_type": "stream",
     "text": [
      "ffmpeg version 6.1.1 Copyright (c) 2000-2023 the FFmpeg developers\n",
      "  built with Apple clang version 14.0.0 (clang-1400.0.29.202)\n",
      "  configuration: --prefix=/usr/local/Cellar/ffmpeg/6.1.1_6 --enable-shared --enable-pthreads --enable-version3 --cc=clang --host-cflags= --host-ldflags= --enable-ffplay --enable-gnutls --enable-gpl --enable-libaom --enable-libaribb24 --enable-libbluray --enable-libdav1d --enable-libharfbuzz --enable-libjxl --enable-libmp3lame --enable-libopus --enable-librav1e --enable-librist --enable-librubberband --enable-libsnappy --enable-libsrt --enable-libssh --enable-libsvtav1 --enable-libtesseract --enable-libtheora --enable-libvidstab --enable-libvmaf --enable-libvorbis --enable-libvpx --enable-libwebp --enable-libx264 --enable-libx265 --enable-libxml2 --enable-libxvid --enable-lzma --enable-libfontconfig --enable-libfreetype --enable-frei0r --enable-libass --enable-libopencore-amrnb --enable-libopencore-amrwb --enable-libopenjpeg --enable-libopenvino --enable-libspeex --enable-libsoxr --enable-libzmq --enable-libzimg --disable-libjack --disable-indev=jack --enable-videotoolbox --enable-audiotoolbox\n",
      "  libavutil      58. 29.100 / 58. 29.100\n",
      "  libavcodec     60. 31.102 / 60. 31.102\n",
      "  libavformat    60. 16.100 / 60. 16.100\n",
      "  libavdevice    60.  3.100 / 60.  3.100\n",
      "  libavfilter     9. 12.100 /  9. 12.100\n",
      "  libswscale      7.  5.100 /  7.  5.100\n",
      "  libswresample   4. 12.100 /  4. 12.100\n",
      "  libpostproc    57.  3.100 / 57.  3.100\n",
      "Input #0, mov,mp4,m4a,3gp,3g2,mj2, from './files/podcast.mp4':\n",
      "  Metadata:\n",
      "    major_brand     : mp42\n",
      "    minor_version   : 0\n",
      "    compatible_brands: isommp42\n",
      "    creation_time   : 2023-05-05T21:58:50.000000Z\n",
      "  Duration: 01:13:42.43, start: 0.000000, bitrate: 472 kb/s\n",
      "  Stream #0:0[0x1](und): Video: h264 (Main) (avc1 / 0x31637661), yuv420p(tv, bt709, progressive), 1280x720 [SAR 1:1 DAR 16:9], 341 kb/s, 23.98 fps, 23.98 tbr, 24k tbn (default)\n",
      "    Metadata:\n",
      "      creation_time   : 2023-05-05T21:58:50.000000Z\n",
      "      handler_name    : ISO Media file produced by Google Inc. Created on: 05/05/2023.\n",
      "      vendor_id       : [0][0][0][0]\n",
      "  Stream #0:1[0x2](eng): Audio: aac (LC) (mp4a / 0x6134706D), 44100 Hz, stereo, fltp, 128 kb/s (default)\n",
      "    Metadata:\n",
      "      creation_time   : 2023-05-05T21:58:50.000000Z\n",
      "      handler_name    : ISO Media file produced by Google Inc. Created on: 05/05/2023.\n",
      "      vendor_id       : [0][0][0][0]\n",
      "Stream mapping:\n",
      "  Stream #0:1 -> #0:0 (aac (native) -> mp3 (libmp3lame))\n",
      "Press [q] to stop, [?] for help\n",
      "Output #0, mp3, to './files/audio_2.mp3':\n",
      "  Metadata:\n",
      "    major_brand     : mp42\n",
      "    minor_version   : 0\n",
      "    compatible_brands: isommp42\n",
      "    TSSE            : Lavf60.16.100\n",
      "  Stream #0:0(eng): Audio: mp3, 44100 Hz, stereo, fltp (default)\n",
      "    Metadata:\n",
      "      creation_time   : 2023-05-05T21:58:50.000000Z\n",
      "      handler_name    : ISO Media file produced by Google Inc. Created on: 05/05/2023.\n",
      "      vendor_id       : [0][0][0][0]\n",
      "      encoder         : Lavc60.31.102 libmp3lame\n",
      "[out#0/mp3 @ 0x7fe8ec72f180] video:0kB audio:69101kB subtitle:0kB other streams:0kB global headers:0kB muxing overhead: 0.000489%\n",
      "size=   69101kB time=01:13:42.40 bitrate= 128.0kbits/s speed= 115x    \n"
     ]
    }
   ],
   "source": [
    "import subprocess\n",
    "from pydub import AudioSegment\n",
    "import math\n",
    "\n",
    "\n",
    "def extract_audio_from_video(video_path, audio_path):\n",
    "    command = [\n",
    "        \"ffmpeg\",\n",
    "        \"-i\",\n",
    "        video_path,\n",
    "        \"-vn\",\n",
    "        audio_path,\n",
    "    ]\n",
    "    subprocess.run(command)\n",
    "\n",
    "\n",
    "def cut_audio_in_chunks(audio_path, chunk_size, chunks_folder):\n",
    "    track = AudioSegment.from_mp3(audio_path)\n",
    "    chunk_len = chunk_size * 60 * 1000\n",
    "    chunks = math.ceil(len(track) / chunk_len)\n",
    "    for i in range(chunks):\n",
    "        start_time = i * chunk_len\n",
    "        end_time = (i + 1) * chunk_len\n",
    "\n",
    "        chunk = track[start_time:end_time]\n",
    "\n",
    "        chunk.export(f\"./{chunks_folder}/chunk_{i}.mp3\", format=\"mp3\")"
   ]
  },
  {
   "cell_type": "code",
   "execution_count": 1,
   "metadata": {},
   "outputs": [
    {
     "name": "stdout",
     "output_type": "stream",
     "text": [
      "{\n",
      "  \"text\": \"If success is this lagging indicator of commitment now, how can you be sure that you are paying your dues? The best-selling author and host. The number one health and wellness podcast. On Purpose with Jay Shetty. Society has gone in the direction of becoming addicted to pleasure. Yes. Or pleasure-seeking. Where, from the Stoic's perspective, why did we even ever go down that road? Like, why did we leave wisdom and self-control? Or did we never have it at all and we've always been trying to balance it? Yeah. I mean, I guess that's the big question is, like, why do we take something that we like too far? Yeah. Right. So the Epicureans would say like, look, drinking is great, but if you have a hangover the next day, was it actually so great? And so, you know, if you, if you push the pleasure too far, it becomes not pleasurable, but in the moment that feels very far away, right? Like in the moment you want the thing now, obviously sex is this thing for people, it's like the thing you're attracted to in this moment, you're not thinking about the shame or the regret or the consequences or the pain or the loss. You're not thinking of all those things you're just thinking of right now. So I think a big part of this, this is where the wisdom comes in, the ability to step back and go, what am I going to think about this after I get it? What am I going to think about this later? And realizing that your mind is very good at tricking you. Just as your mind often tells you like, stop, you're too tired. You can't go any further. You actually have a lot less left in the tank. Your mind also tells you, you need this thing. You won't regret it. It's amazing, you know, whatever. And it's, it's really good at putting those blinders on. And so part of, I think any meditative practice, any philosophical practice, any journaling practice is, is being able to argue with yourself a little bit, to step back and have that conversation about, well, is what I think about this true, is the story I'm telling myself about this true? I think nowhere is this more important than for like ambitious people who have told themselves, I will be happy when I accomplish X, right? Like of all the things we need to be most disciplined about, ambition is one of them. Cause it tells you this lie that after I become a New York Times bestseller, after I make a million dollars, after I get a gold medal, then I'll be good. The parents will be proud of me. I'll be happy. Then I can relax. And you have to have the perspective, the wisdom to go, was that ever been true ever in my life before? Has that ever been true in history? And then go, oh, okay, no, I can't tell myself that lie. That doesn't mean you don't work really hard to do stuff, but you're not doing it under the false pretenses that it's going to be conditional to your happiness. Yeah. But there's a part of us that, and I, and I love what you're saying, but there's a part of us that always believes that we are the exception, that we will know how to spend money better, that we'll know how to have love in our life better, like we won't be the one who fumbles off the edge of a cliff. Like we're smarter than all our friends. Even if we don't say that we're wiser than the people who came before us. And that's the, and that's ego is the enemy. But of course, like that, that idea, I think is what misleads us so much. Yes. Yeah. It's, it's like, okay, you're on the medal stand. You've just won the gold medal and you're not feeling happy for yourself. You're thinking, well, I could have done it faster. You're thinking, oh, I got to do it again. Right. Even in that moment, you're not able to think I'm doing it to myself right now, what I will be doing to myself in the future. And that's this sort of insidious thing. And you can understand why from an evolutionary perspective, it drives the species forward. You can also see the immense personal cost that it inflicts on us because it never allows us to be present or content or happy with what we have in that moment. And so I think, again, people think discipline is the, I always push myself to do better, do more. Discipline can also be curbing that very impulse, right? Like ordinary people, when we're talking about discipline, what we're talking about is getting off your butt, working out, resisting eating candy and eating nutritious food instead. It's, you know, managing your screen time. But I think for a lot of more disciplined people or for people who have tasted the rewards of discipline, you have to learn how to be disciplined about discipline, which is maybe the highest level of, of the whole thing. Yeah, yeah, exactly. Now we're, I guess now we've started talking about discipline as a tool to achieve daily or weekly, monthly, yearly tasks. But you're actually saying that we need to go back a bit. Like, how would you unpack that for how you're defining discipline there? Well, it's, it's like, uh, what's the number one cause of injury for athletes? It's overtraining, right? So like, yeah, you're ordinary person. It's like, you're not training enough. You're not working hard enough. Yeah. But then at a more elite level, at a more accomplished level, actually the trouble is, hey, the, the race isn't for six weeks. Like you, do you want to peak now or do you want to peak at the right moment? Right. Um, or this is just a practice session. You don't have to go all out or, you know, it's a long season. Are you prepared for that? And so, you know, discipline has to be balanced with sustainability, with rest, relaxation, recuperation, recovery, all these other things, and that requires kind of a spiritual discipline on not just, hey, I can run an hour without getting tired, but like, can I stop myself from doing that if that's not what I should be doing in this moment? Yeah. And what I like about that is that I feel there's different phases and stages. Like in the first two years of my career where we would have met in New York and we went on a walk once as well, I think, and we were walking around the city and I remember talking about a few of these themes, but it was at that time in my life, I was working probably 18 hour days because I had to, in order to kind of break through that first level, I was still disciplined in the sense that I would make time to eat to some degree and meditate and I would make some time to do a few things of rest, but generally I was working seven days a week, 18 hours a day. And I'm very grateful I did that. I don't look back and go, oh, I wasted two years. It was brilliant. But then in the last couple of years, I've taken my evenings back. And so I don't work after 6 PM. It's just a rule. I don't want to work. I don't want to be on the phone. And I was talking to a friend and it's exactly what you said. He was saying to me, he was just like, well, don't you get less done? And I was like, no, I get more done because I know how much I have to get done. I'm far more attentive and focused. And then I'm not working at 9 PM when I can rest and recuperate. And now the next day I'm better for it. And so I hear that idea that that is also a discipline, although it could be seen as you're being lazy in the evening. And I think it's the question of, well, is it easy for you to do that? Yes or no? Right. It's hard. It's actually harder for you, I imagine, to say I'm stopping at six than it is to say, I'm going to work all night till I fall asleep at my desk, right? Like, yeah, I can do that. Yeah. If my wife's not around, I can work every weekend and evening. And also it's realizing that you have multiple things that you're trying to do simultaneously. So yeah, sure. Working, continuing to work 18 hour days may help you continue to advance in your career. But if one of the also, the other things you're trying to work on is to stay married or to better yet have a happy marriage or you have children or you have your health or whatever, like you were telling me before we recorded it, you like you got in at 3 a.m. last night. Let's say you're a person who always wakes up very early. Like I'm a person who wakes up early, but then I also have to understand that sleep is a discipline. And so if some changes outside my control mean that I didn't go to bed to a certain time, the fact that I wake up at five, that's bad idea. And it actually requires it. You wouldn't think that sleep discipline would be a thing, but in the military, they talk about that sleep discipline. You got to get your hours because you make bad decisions when you're not rested and other people bear the consequences of those decisions. And so deciding, Hey, I'm going to skip this thing that feels comfortable to me to do, that feels natural for me to do that. I feel like I'm letting some part of myself down by not doing, I actually have to be the bigger, more self-controlled person and say in this moment, I'm not going to do that. Right. And, and I think at the end of the day, self-discipline is the ability to have an emotion and instinct of feeling to do a thing and then to catch yourself and go, is that actually the right thing to do? Yes or no. And sometimes it is, sometimes it's, Hey, it's cold outside and it's 5 a.m. and it's still dark and I don't want to get up, but I have to get up because I've made these commitments. I'm behind you, blah, blah, blah. And other times it is to stay in bed. Right. Just like, you know, sometimes you feel that surge of temper coming on and you have to go, no, that's not a good, like, it's always the ability to step back, put the emotion, the instinct, the opinion to the test. And I think you learn this in meditation. I think you learn this for stoicism in the journaling of going like, here's the thing and I can choose it or not. I can choose to identify it or not. It is not me. The Stoics have this word ascent, right? Not like ascent up a mountain, but A-S-S-E-N-T. Do you ascent to the feeling or not? Do you agree to it, rubber stamp it, approve it, go along with it or not? Do you subscribe? Yeah. Yeah. That's what discipline is about. What do you ascent to and what do you not ascent to? Yeah. I wonder, I want to go out of a tangent. I want to come back to that cause I actually really liked that point. But a few words ago, there was something that you sparked for me. Sometimes I feel like with work, it's doable. Sometimes with even our partner or with friends, it's possible to say no, to be disciplined. I find like, and I want to ask you this from your perspective. What about a sense of dad guilt? Like we talk a lot about mom guilt and you know, if it was speaking to mom, I'd ask.\"\n",
      "}\n"
     ]
    }
   ],
   "source": [
    "import openai\n",
    "\n",
    "transcript = openai.Audio.transcribe(\"whisper-1\", open(\"./files/chunks/chunk_0.mp3\", \"rb\"))\n",
    "\n",
    "print(transcript)\n"
   ]
  },
  {
   "cell_type": "code",
   "execution_count": null,
   "metadata": {},
   "outputs": [],
   "source": []
  }
 ],
 "metadata": {
  "kernelspec": {
   "display_name": "env",
   "language": "python",
   "name": "python3"
  },
  "language_info": {
   "codemirror_mode": {
    "name": "ipython",
    "version": 3
   },
   "file_extension": ".py",
   "mimetype": "text/x-python",
   "name": "python",
   "nbconvert_exporter": "python",
   "pygments_lexer": "ipython3",
   "version": "3.11.2"
  }
 },
 "nbformat": 4,
 "nbformat_minor": 2
}
